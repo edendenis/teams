{
 "cells": [
  {
   "cell_type": "markdown",
   "metadata": {},
   "source": [
    "# Como instalar/configurar/usar o `Microsoft Teams for Linux` no `Linux Ubuntu`\n",
    "\n",
    "## Resumo\n",
    "\n",
    "Neste documento estão contidos os principais comandos e configurações para configurar/instalar/usar o `Microsoft Teams for Linux` no `Linux Ubuntu`.\n",
    "\n",
    "## _Abstract_\n",
    "\n",
    "_This document contains the main commands and settings for configuring/installing/use the `Microsoft Teams for Linux` on `Linux Ubuntu`._"
   ]
  },
  {
   "cell_type": "markdown",
   "metadata": {},
   "source": [
    "## Descrição [2]\n",
    "\n",
    "`Microsoft Teams`\n",
    "\n",
    "O `Microsoft Teams` é uma plataforma de colaboração e comunicação empresarial desenvolvida pela Microsoft. Ele oferece uma variedade de recursos, incluindo bate-papo em equipe, videoconferência, compartilhamento de arquivos e integração com outras ferramentas e serviços da Microsoft, como o `Office 365`. O `Microsoft Teams` permite que equipes de trabalho se comuniquem e colaborem de forma eficiente, independentemente da localização geográfica, facilitando a organização de reuniões virtuais, o compartilhamento de documentos e a colaboração em projetos. Com recursos avançados de segurança e conformidade, integração com aplicativos de terceiros e suporte para uma variedade de dispositivos, o `Microsoft Teams` é amplamente utilizado por empresas de todos os tamanhos para melhorar a produtividade e a eficiência da equipe.\n"
   ]
  },
  {
   "cell_type": "markdown",
   "metadata": {},
   "source": [
    "## 1. Configurar/Instalar/usar o `Microsoft Teams for Linux` no `Linux Ubuntu` [1]\n",
    "\n",
    "Para configurar/instalar/usar o `Microsoft Teams for Linux` no `Linux Ubuntu`, você pode seguir estas etapas:\n",
    "\n",
    "1. Abra o `Terminal Emulator`. Você pode fazer isso pressionando: `Ctrl + Alt + T`\n"
   ]
  },
  {
   "cell_type": "markdown",
   "metadata": {},
   "source": [
    "2. Certifique-se de que seu sistema esteja limpo e atualizado.\n",
    "\n",
    "    2.1 Limpar o `cache` do gerenciador de pacotes `apt`. Especificamente, ele remove todos os arquivos de pacotes (`.deb`) baixados pelo `apt` e armazenados em `/var/cache/apt/archives/`. Digite o seguinte comando: `sudo apt clean` \n",
    "    \n",
    "    2.2 Remover pacotes `.deb` antigos ou duplicados do cache local. É útil para liberar espaço, pois remove apenas os pacotes que não podem mais ser baixados (ou seja, versões antigas de pacotes que foram atualizados). Digite o seguinte comando: `sudo apt autoclean`\n",
    "\n",
    "    2.3 Remover pacotes que foram automaticamente instalados para satisfazer as dependências de outros pacotes e que não são mais necessários. Digite o seguinte comando: `sudo apt autoremove -y`\n",
    "\n",
    "    2.4 Buscar as atualizações disponíveis para os pacotes que estão instalados em seu sistema. Digite o seguinte comando e pressione `Enter`: `sudo apt update`\n",
    "\n",
    "    2.5 **Corrigir pacotes quebrados**: Isso atualizará a lista de pacotes disponíveis e tentará corrigir pacotes quebrados ou com dependências ausentes: `sudo apt --fix-broken install`\n",
    "\n",
    "    2.6 Limpar o `cache` do gerenciador de pacotes `apt`. Especificamente, ele remove todos os arquivos de pacotes (`.deb`) baixados pelo `apt` e armazenados em `/var/cache/apt/archives/`. Digite o seguinte comando: `sudo apt clean` \n",
    "    \n",
    "    2.7 Para ver a lista de pacotes a serem atualizados, digite o seguinte comando e pressione `Enter`:  `sudo apt list --upgradable`\n",
    "\n",
    "    2.8 Realmente atualizar os pacotes instalados para as suas versões mais recentes, com base na última vez que você executou `sudo apt update`. Digite o seguinte comando e pressione `Enter`: `sudo apt full-upgrade -y`\n",
    " "
   ]
  },
  {
   "cell_type": "markdown",
   "metadata": {},
   "source": [
    "### 1.1 Configurar/Instalar/Usar o `Microsoft Teams for Linux` pelo `.deb`\n",
    "\n",
    "Para instalar o `Microsoft Teams for Linux` no `Linux Ubuntu`. A Microsoft oferece uma versão do `Teams` especificamente para `Linux`, que pode ser baixada e instalada diretamente. Aqui estão os passos básicos para a instalação:\n",
    "\n",
    "3. **Baixe o pacote `.deb` do `Microsoft Teams`:** Você pode baixar o pacote `.deb` para o `Teams` diretamente do site oficial da Microsoft.\n",
    "\n",
    "4. **Instale o pacote `.deb`:** Depois de baixar o pacote, você pode instalá-lo usando a linha de comando. Abra um terminal e navegue até o diretório onde o pacote foi baixado. Então, use o comando `dpkg` para instalar o pacote. Por exemplo: `sudo dpkg -i teams_<versao>.deb`\n",
    "\n",
    "    Substitua <versao> pelo nome do arquivo do pacote que você baixou.\n",
    "\n",
    "5. **Resolva as dependências:** Se o comando anterior indicar que há dependências não satisfeitas, execute o seguinte comando para corrigir essas dependências: `sudo apt-get install -f`\n",
    "    \n",
    "    Este comando instalará as dependências necessárias para o `Microsoft Teams`.\n",
    "\n",
    "6. **Inicie o `Microsoft Teams`:** Após a instalação, você pode iniciar o `Microsoft Teams` procurando por ele no menu de aplicativos do seu Ubuntu.\n",
    "\n",
    "Lembre-se de que a Microsoft atualiza o Teams regularmente, então é uma boa ideia manter seu software atualizado. A instalação pelo pacote `.deb` geralmente não configura um repositório para atualizações automáticas, então você pode precisar baixar e instalar manualmente novas versões do Teams para mantê-lo atualizado.\n"
   ]
  },
  {
   "cell_type": "markdown",
   "metadata": {},
   "source": [
    "#### 1.1.1 Código completo configurar/instalar/usar\n",
    "\n",
    "Para configurar/instalar/usar o `Microsoft` no `Linux Ubuntu` sem precisar digitar linha por linha, você pode seguir estas etapas:\n",
    "\n",
    "1. Abra o `Terminal Emulator`. Você pode fazer isso pressionando: `Ctrl + Alt + T`\n",
    "\n",
    "2. Digite o seguinte comando e pressione `Enter`:\n",
    "\n",
    "    ```\n",
    "    NÃO há.\n",
    "    ```"
   ]
  },
  {
   "cell_type": "markdown",
   "metadata": {
    "vscode": {
     "languageId": "plaintext"
    }
   },
   "source": [
    "### 1.2 Configurar/Instalar/Usar o `Microsoft Teams for Linux` pelo `snap`\n",
    "\n",
    "Para instalar o `Microsoft Teams for Linux` no `Linux Ubuntu`. A Microsoft oferece uma versão do `Teams` especificamente para `Linux`, que pode ser baixada e instalada diretamente. Aqui estão os passos básicos para a instalação:\n",
    "\n",
    "1. **Instalar o `Microsoft Teams`:** Você pode instalar o `Teams` diretamente do `snap`, execute o comando: `sudo snap install teams-for-linux`"
   ]
  },
  {
   "cell_type": "markdown",
   "metadata": {
    "vscode": {
     "languageId": "plaintext"
    }
   },
   "source": [
    "## 2. Desinstalar o `Microsoft Teams`\n",
    "\n",
    "### 2.1 Instalado pelo `.deb`\n",
    "\n",
    "Para desinstalar o `Microsoft Teams` que foi instalado usando um pacote `.deb` no `Linux Ubuntu`, você pode usar o `dpkg` (Debian Package Manager). Siga os passos abaixo:\n",
    "\n",
    "1. Abra o `Terminal Emulator`.\n",
    "\n",
    "2. **Execute o seguinte comando para desinstalar o `Microsoft Teams`**: `sudo dpkg --remove teams`\n",
    "\n",
    "3. Se houver algum problema durante a desinstalação ou se quiser garantir que todos os arquivos relacionados sejam removidos, você pode usar o comando `purge`: `sudo dpkg --purge teams`\n",
    "\n",
    "    Esses comandos removerão o `Microsoft Teams` do seu sistema.\n",
    "\n",
    "4. Caso precise remover algum resquício de dependências não utilizadas, você pode executar: `sudo apt autoremove`\n",
    "\n",
    "    Isso garantirá que qualquer dependência que não seja mais necessária seja removida, liberando espaço em disco.\n",
    "\n",
    "Após executar esses comandos, o `Microsoft Teams` deve estar completamente desinstalado do seu sistema Ubuntu."
   ]
  },
  {
   "cell_type": "markdown",
   "metadata": {
    "vscode": {
     "languageId": "plaintext"
    }
   },
   "source": [
    "### 2.2 Desinstar pelo `snap`\n",
    "\n",
    "Se o `Microsoft Teams` foi instalado via `Snap`, você pode desinstalá-lo usando o comando snap remove. Siga os passos abaixo:\n",
    "\n",
    "1. Abra o `Terminal Emulator`.\n",
    "\n",
    "2. Execute o seguinte comando para desinstalar o `Microsoft Teams`: `sudo snap remove teams-for-linux`\n",
    "\n",
    "Este comando removerá o `Microsoft Teams` que foi instalado via `Snap` do seu sistema."
   ]
  },
  {
   "cell_type": "markdown",
   "metadata": {
    "vscode": {
     "languageId": "plaintext"
    }
   },
   "source": [
    "## Referências\n",
    "\n",
    "[1] OPENAI. ***Instale o Teams no Ubuntu.*** Disponível em: <https://chat.openai.com/c/a21756a6-1a1d-4945-a183-9bd9b7ed3ef9> (texto adaptado). Acessado em: 07/02/2024 21:01.\n",
    "\n",
    "[2] OPENAI. ***Vs code: editor popular.*** Disponível em: <https://chat.openai.com/c/b640a25d-f8e3-4922-8a3b-ed74a2657e42> (texto adaptado). Acessado em: 07/02/2024 21:01.\n"
   ]
  }
 ],
 "metadata": {
  "kernelspec": {
   "display_name": "Python 3",
   "language": "python",
   "name": "python3"
  },
  "language_info": {
   "codemirror_mode": {
    "name": "ipython",
    "version": 3
   },
   "file_extension": ".py",
   "mimetype": "text/x-python",
   "name": "python",
   "nbconvert_exporter": "python",
   "pygments_lexer": "ipython3",
   "version": "3.8.10"
  },
  "orig_nbformat": 4
 },
 "nbformat": 4,
 "nbformat_minor": 2
}
